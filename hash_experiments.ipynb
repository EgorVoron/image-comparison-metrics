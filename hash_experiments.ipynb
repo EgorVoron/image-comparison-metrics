{
 "cells": [
  {
   "cell_type": "code",
   "execution_count": 1,
   "metadata": {},
   "outputs": [],
   "source": [
    "from src.dists import compute_distortions_dists, S, compute_random_dists, norm_hamming, compute_distortions_dists_preloaded\n",
    "from src.utils import load_images\n",
    "from src import ops, search_metrics\n",
    "from src.pdq_hash import pdq_hash"
   ]
  },
  {
   "cell_type": "code",
   "execution_count": 2,
   "metadata": {},
   "outputs": [],
   "source": [
    "# магия для перезагрузки импортов\n",
    "%load_ext autoreload\n",
    "%autoreload 2\n",
    "import builtins\n",
    "from IPython.lib import deepreload\n",
    "builtins.reload = deepreload.reload\n",
    "%reload_ext autoreload"
   ]
  },
  {
   "cell_type": "code",
   "execution_count": 3,
   "metadata": {},
   "outputs": [],
   "source": [
    "import imagehash\n",
    "import matplotlib.pyplot as plt\n",
    "import numpy as np\n",
    "import scipy.stats as stats\n",
    "import csv\n",
    "import pandas as pd\n",
    "import seaborn\n",
    "import pdqhash\n",
    "from PIL import Image"
   ]
  },
  {
   "cell_type": "code",
   "execution_count": 5,
   "metadata": {},
   "outputs": [],
   "source": [
    "Lenna = Image.open(\"Lenna.png\")"
   ]
  },
  {
   "cell_type": "code",
   "execution_count": 6,
   "metadata": {},
   "outputs": [],
   "source": [
    "all_hashes = [imagehash.average_hash,\n",
    "              imagehash.dhash,\n",
    "              imagehash.phash,\n",
    "              imagehash.whash,\n",
    "              imagehash.colorhash,\n",
    "              pdq_hash\n",
    "              ]"
   ]
  },
  {
   "cell_type": "code",
   "execution_count": 34,
   "metadata": {},
   "outputs": [],
   "source": [
    "images = load_images('test', 500)"
   ]
  },
  {
   "cell_type": "code",
   "execution_count": 23,
   "metadata": {},
   "outputs": [],
   "source": [
    "distorted_images = {}"
   ]
  },
  {
   "cell_type": "code",
   "execution_count": 35,
   "metadata": {},
   "outputs": [
    {
     "name": "stderr",
     "output_type": "stream",
     "text": [
      "  0%|          | 0/501 [00:00<?, ?it/s]"
     ]
    },
    {
     "name": "stderr",
     "output_type": "stream",
     "text": [
      "100%|██████████| 501/501 [00:08<00:00, 58.81it/s]\n",
      "100%|██████████| 501/501 [00:06<00:00, 77.01it/s]\n"
     ]
    }
   ],
   "source": [
    "distorted_images['blur'] = ops.get_distortions(ops.gaussian_blur, [3, 7], images)"
   ]
  },
  {
   "cell_type": "code",
   "execution_count": 37,
   "metadata": {},
   "outputs": [
    {
     "name": "stderr",
     "output_type": "stream",
     "text": [
      "100%|██████████| 501/501 [00:02<00:00, 237.12it/s]\n",
      "100%|██████████| 501/501 [00:02<00:00, 191.54it/s]\n",
      "100%|██████████| 501/501 [00:07<00:00, 63.95it/s]\n"
     ]
    }
   ],
   "source": [
    "distorted_images['scale'] = ops.get_distortions(ops.scale, [0.25, 0.5, 1.5], images)"
   ]
  },
  {
   "cell_type": "code",
   "execution_count": 38,
   "metadata": {},
   "outputs": [
    {
     "name": "stderr",
     "output_type": "stream",
     "text": [
      "100%|██████████| 501/501 [00:02<00:00, 168.64it/s]\n",
      "100%|██████████| 501/501 [00:03<00:00, 162.44it/s]\n",
      "100%|██████████| 501/501 [00:03<00:00, 158.74it/s]\n"
     ]
    }
   ],
   "source": [
    "distorted_images['jpeg'] = ops.get_distortions(ops.jpeg, [10, 20, 40], images)"
   ]
  },
  {
   "cell_type": "code",
   "execution_count": 39,
   "metadata": {},
   "outputs": [
    {
     "name": "stderr",
     "output_type": "stream",
     "text": [
      "100%|██████████| 501/501 [00:00<00:00, 1324.72it/s]\n"
     ]
    }
   ],
   "source": [
    "distorted_images['mirror'] = ops.get_distortions(ops.flip, [0], images)"
   ]
  },
  {
   "cell_type": "code",
   "execution_count": 40,
   "metadata": {},
   "outputs": [
    {
     "name": "stderr",
     "output_type": "stream",
     "text": [
      "100%|██████████| 501/501 [00:00<00:00, 976.88it/s] \n"
     ]
    }
   ],
   "source": [
    "distorted_images['flip'] = ops.get_distortions(ops.flip, [1], images)"
   ]
  },
  {
   "cell_type": "code",
   "execution_count": 41,
   "metadata": {},
   "outputs": [
    {
     "name": "stderr",
     "output_type": "stream",
     "text": [
      "100%|██████████| 501/501 [00:01<00:00, 319.19it/s]\n",
      "100%|██████████| 501/501 [00:01<00:00, 375.78it/s]\n",
      "100%|██████████| 501/501 [00:01<00:00, 258.19it/s]\n"
     ]
    }
   ],
   "source": [
    "distorted_images['brighter'] = ops.get_distortions(ops.brighter, [0.5, 0.8, 1.5], images)"
   ]
  },
  {
   "cell_type": "code",
   "execution_count": 69,
   "metadata": {},
   "outputs": [
    {
     "name": "stderr",
     "output_type": "stream",
     "text": [
      "100%|██████████| 501/501 [00:04<00:00, 100.22it/s]\n",
      "100%|██████████| 501/501 [00:04<00:00, 114.31it/s]\n",
      "100%|██████████| 501/501 [00:04<00:00, 100.44it/s]\n"
     ]
    }
   ],
   "source": [
    "distorted_images['sharper'] = ops.get_distortions(ops.sharper, [0.5, 0.8, 1.5], images)"
   ]
  },
  {
   "cell_type": "code",
   "execution_count": null,
   "metadata": {},
   "outputs": [],
   "source": []
  },
  {
   "cell_type": "code",
   "execution_count": 198,
   "metadata": {},
   "outputs": [],
   "source": [
    "distorted_changed_images = {}"
   ]
  },
  {
   "cell_type": "code",
   "execution_count": 199,
   "metadata": {},
   "outputs": [
    {
     "name": "stderr",
     "output_type": "stream",
     "text": [
      "100%|██████████| 501/501 [00:00<00:00, 541.48it/s]\n",
      "100%|██████████| 501/501 [00:01<00:00, 462.54it/s]\n"
     ]
    }
   ],
   "source": [
    "distorted_changed_images['rotate'] = ops.get_distortions(ops.rotate, [2, 5], images)"
   ]
  },
  {
   "cell_type": "code",
   "execution_count": 200,
   "metadata": {},
   "outputs": [
    {
     "name": "stderr",
     "output_type": "stream",
     "text": [
      "100%|██████████| 501/501 [00:00<00:00, 3089.75it/s]\n",
      "100%|██████████| 501/501 [00:00<00:00, 3119.05it/s]\n"
     ]
    }
   ],
   "source": [
    "distorted_changed_images['crop'] = ops.get_distortions(ops.crop, [0.05, 0.1], images)"
   ]
  },
  {
   "cell_type": "code",
   "execution_count": 46,
   "metadata": {},
   "outputs": [],
   "source": [
    "def get_preloaded_res(images, distortion_res):\n",
    "    res = {}\n",
    "    for hash_func in all_hashes:\n",
    "        res[hash_func.__name__] = compute_distortions_dists_preloaded(images, distortion_res=distortion_res, hash_func=hash_func)\n",
    "    return res"
   ]
  },
  {
   "cell_type": "code",
   "execution_count": 47,
   "metadata": {},
   "outputs": [
    {
     "name": "stderr",
     "output_type": "stream",
     "text": [
      "0it [00:00, ?it/s]"
     ]
    },
    {
     "name": "stderr",
     "output_type": "stream",
     "text": [
      "501it [00:00, 552.52it/s]\n",
      "501it [00:00, 596.71it/s]\n",
      "501it [00:00, 597.26it/s]\n",
      "501it [00:00, 1175.56it/s]\n",
      "501it [00:00, 1179.27it/s]\n",
      "501it [00:00, 1185.09it/s]\n",
      "501it [00:00, 981.46it/s] \n",
      "501it [00:00, 999.65it/s] \n",
      "501it [00:00, 963.10it/s]\n",
      "501it [00:07, 70.56it/s]\n",
      "501it [00:07, 71.53it/s]\n",
      "501it [00:07, 70.56it/s]\n",
      "501it [00:05, 89.66it/s] \n",
      "501it [00:05, 94.24it/s] \n",
      "501it [00:05, 95.77it/s] \n",
      "501it [00:04, 105.91it/s]\n",
      "501it [00:04, 106.83it/s]\n",
      "501it [00:04, 107.52it/s]\n"
     ]
    }
   ],
   "source": [
    "gauss_blur_res = get_preloaded_res(images, distortion_res=distorted_images['blur'])"
   ]
  },
  {
   "cell_type": "code",
   "execution_count": 50,
   "metadata": {},
   "outputs": [
    {
     "data": {
      "text/plain": [
       "{3: (0.0, 0.046875, 0.000499001996007984),\n",
       " 7: (0.0, 0.078125, 0.0017153193612774451)}"
      ]
     },
     "execution_count": 50,
     "metadata": {},
     "output_type": "execute_result"
    }
   ],
   "source": [
    "gauss_blur_res['average_hash'].stats()"
   ]
  },
  {
   "cell_type": "code",
   "execution_count": 55,
   "metadata": {},
   "outputs": [
    {
     "data": {
      "text/plain": [
       "<Axes: >"
      ]
     },
     "execution_count": 55,
     "metadata": {},
     "output_type": "execute_result"
    },
    {
     "data": {
      "image/png": "[encoded data removed]",
      "text/plain": [
       "<Figure size 640x480 with 1 Axes>"
      ]
     },
     "metadata": {},
     "output_type": "display_data"
    }
   ],
   "source": [
    "plt.ylim(0, 1)\n",
    "seaborn.boxplot(gauss_blur_res['pdq_hash'].stats())"
   ]
  },
  {
   "cell_type": "code",
   "execution_count": 62,
   "metadata": {},
   "outputs": [],
   "source": [
    "def save_dists_excel(res, filename='res'):\n",
    "    rows = []\n",
    "    for k in res['average_hash'].stats().keys():\n",
    "        row = [k]\n",
    "        for h in all_hashes:\n",
    "            row += res[h.__name__].stats()[k]\n",
    "        rows.append(row)\n",
    "    pd.DataFrame(rows, columns=['param'] + ['min', 'max', 'avg'] * len(all_hashes)).to_excel(filename + '.xlsx', index=False)"
   ]
  },
  {
   "cell_type": "code",
   "execution_count": 63,
   "metadata": {},
   "outputs": [],
   "source": [
    "save_dists_excel(gauss_blur_res, 'gbr')"
   ]
  },
  {
   "cell_type": "code",
   "execution_count": null,
   "metadata": {},
   "outputs": [],
   "source": []
  },
  {
   "cell_type": "code",
   "execution_count": 64,
   "metadata": {},
   "outputs": [
    {
     "name": "stderr",
     "output_type": "stream",
     "text": [
      "501it [00:00, 609.11it/s]\n",
      "501it [00:00, 7326.82it/s]\n",
      "501it [00:00, 2204.89it/s]\n",
      "501it [00:01, 270.00it/s]\n",
      "501it [00:00, 1167.93it/s]\n",
      "501it [00:00, 11530.53it/s]\n",
      "501it [00:00, 3983.75it/s]\n",
      "501it [00:00, 547.83it/s]\n",
      "501it [00:00, 999.97it/s] \n",
      "501it [00:00, 7029.42it/s]\n",
      "501it [00:00, 2506.34it/s]\n",
      "501it [00:01, 488.98it/s]\n",
      "501it [00:06, 71.62it/s]\n",
      "501it [00:00, 969.08it/s] \n",
      "501it [00:01, 313.54it/s]\n",
      "501it [00:22, 21.87it/s]\n",
      "501it [00:05, 93.98it/s] \n",
      "501it [00:00, 1171.75it/s]\n",
      "501it [00:01, 346.72it/s]\n",
      "501it [00:12, 40.69it/s]\n",
      "501it [00:04, 103.80it/s]\n",
      "501it [00:00, 1786.59it/s]\n",
      "501it [00:01, 481.21it/s]\n",
      "501it [00:12, 39.49it/s]\n"
     ]
    }
   ],
   "source": [
    "scale_res = get_preloaded_res(images, distortion_res=distorted_images['scale'])\n",
    "save_dists_excel(scale_res, 'scale')"
   ]
  },
  {
   "cell_type": "code",
   "execution_count": 65,
   "metadata": {},
   "outputs": [
    {
     "name": "stderr",
     "output_type": "stream",
     "text": [
      "501it [00:00, 688.73it/s] \n",
      "501it [00:02, 241.28it/s]\n",
      "501it [00:02, 231.84it/s]\n",
      "501it [00:02, 223.13it/s]\n",
      "501it [00:00, 982.24it/s] \n",
      "501it [00:00, 610.33it/s]\n",
      "501it [00:00, 597.98it/s]\n",
      "501it [00:00, 575.85it/s]\n",
      "501it [00:00, 537.09it/s]\n",
      "501it [00:00, 787.65it/s]\n",
      "501it [00:00, 876.46it/s]\n",
      "501it [00:00, 924.79it/s]\n",
      "501it [00:07, 71.55it/s]\n",
      "501it [00:07, 71.32it/s]\n",
      "501it [00:07, 70.20it/s]\n",
      "501it [00:07, 69.60it/s]\n",
      "501it [00:05, 92.61it/s] \n",
      "501it [00:04, 111.03it/s]\n",
      "501it [00:05, 99.93it/s] \n",
      "501it [00:05, 96.00it/s] \n",
      "501it [00:04, 102.21it/s]\n",
      "501it [00:04, 103.92it/s]\n",
      "501it [00:04, 103.54it/s]\n",
      "501it [00:04, 102.13it/s]\n"
     ]
    }
   ],
   "source": [
    "jpeg_res = get_preloaded_res(images, distortion_res=distorted_images['jpeg'])\n",
    "save_dists_excel(jpeg_res, 'jpeg')"
   ]
  },
  {
   "cell_type": "code",
   "execution_count": 66,
   "metadata": {},
   "outputs": [
    {
     "name": "stderr",
     "output_type": "stream",
     "text": [
      "501it [00:00, 610.06it/s]\n",
      "501it [00:00, 622.73it/s]\n",
      "501it [00:00, 1185.72it/s]\n",
      "501it [00:00, 1180.26it/s]\n",
      "501it [00:00, 991.23it/s] \n",
      "501it [00:00, 989.88it/s] \n",
      "501it [00:07, 70.16it/s]\n",
      "501it [00:07, 71.23it/s]\n",
      "501it [00:05, 96.95it/s] \n",
      "501it [00:05, 96.11it/s] \n",
      "501it [00:04, 102.83it/s]\n",
      "501it [00:04, 103.04it/s]\n"
     ]
    }
   ],
   "source": [
    "mirror_res = get_preloaded_res(images, distortion_res=distorted_images['mirror'])\n",
    "save_dists_excel(mirror_res, 'mirror')"
   ]
  },
  {
   "cell_type": "code",
   "execution_count": 68,
   "metadata": {},
   "outputs": [
    {
     "name": "stderr",
     "output_type": "stream",
     "text": [
      "501it [00:00, 1149.29it/s]\n",
      "501it [00:00, 641.54it/s]\n",
      "501it [00:00, 584.74it/s]\n",
      "501it [00:00, 550.79it/s]\n",
      "501it [00:00, 583.62it/s]\n",
      "501it [00:00, 1066.98it/s]\n",
      "501it [00:00, 1183.74it/s]\n",
      "501it [00:00, 1185.25it/s]\n",
      "501it [00:00, 983.87it/s] \n",
      "501it [00:00, 984.38it/s] \n",
      "501it [00:00, 989.83it/s] \n",
      "501it [00:00, 987.62it/s] \n",
      "501it [00:07, 71.52it/s]\n",
      "501it [00:07, 70.11it/s]\n",
      "501it [00:07, 70.23it/s]\n",
      "501it [00:07, 70.98it/s]\n",
      "501it [00:05, 95.90it/s] \n",
      "501it [00:05, 99.55it/s] \n",
      "501it [00:05, 94.34it/s] \n",
      "501it [00:05, 98.66it/s] \n",
      "501it [00:05, 97.25it/s] \n",
      "501it [00:04, 101.67it/s]\n",
      "501it [00:04, 106.92it/s]\n",
      "501it [00:04, 108.94it/s]\n"
     ]
    }
   ],
   "source": [
    "brighter_res = get_preloaded_res(images, distortion_res=distorted_images['brighter'])\n",
    "save_dists_excel(brighter_res, 'brighter')"
   ]
  },
  {
   "cell_type": "code",
   "execution_count": 70,
   "metadata": {},
   "outputs": [
    {
     "name": "stderr",
     "output_type": "stream",
     "text": [
      "501it [00:00, 1155.12it/s]\n",
      "501it [00:00, 714.85it/s]\n",
      "501it [00:00, 672.05it/s]\n",
      "501it [00:00, 667.10it/s]\n",
      "501it [00:00, 564.93it/s]\n",
      "501it [00:00, 853.38it/s]\n",
      "501it [00:00, 904.72it/s]\n",
      "501it [00:00, 975.73it/s]\n",
      "501it [00:00, 972.97it/s] \n",
      "501it [00:00, 917.47it/s]\n",
      "501it [00:00, 992.03it/s] \n",
      "501it [00:00, 995.79it/s] \n",
      "501it [00:07, 71.51it/s]\n",
      "501it [00:06, 71.68it/s]\n",
      "501it [00:07, 70.39it/s]\n",
      "501it [00:07, 69.84it/s]\n",
      "501it [00:05, 90.73it/s] \n",
      "501it [00:05, 94.52it/s] \n",
      "501it [00:05, 91.91it/s] \n",
      "501it [00:05, 88.93it/s] \n",
      "501it [00:04, 104.64it/s]\n",
      "501it [00:04, 102.43it/s]\n",
      "501it [00:04, 103.48it/s]\n",
      "501it [00:04, 104.11it/s]\n"
     ]
    }
   ],
   "source": [
    "sharper_res = get_preloaded_res(images, distortion_res=distorted_images['sharper'])\n",
    "save_dists_excel(sharper_res, 'sharper')"
   ]
  },
  {
   "cell_type": "code",
   "execution_count": 67,
   "metadata": {},
   "outputs": [
    {
     "name": "stderr",
     "output_type": "stream",
     "text": [
      "501it [00:00, 963.94it/s]\n",
      "501it [00:00, 630.02it/s]\n",
      "501it [00:00, 1122.48it/s]\n",
      "501it [00:00, 1176.25it/s]\n",
      "501it [00:00, 992.86it/s] \n",
      "501it [00:00, 999.64it/s] \n",
      "501it [00:07, 71.34it/s]\n",
      "501it [00:06, 71.72it/s]\n",
      "501it [00:05, 95.97it/s] \n",
      "501it [00:05, 95.87it/s] \n",
      "501it [00:04, 103.84it/s]\n",
      "501it [00:04, 104.36it/s]\n"
     ]
    }
   ],
   "source": [
    "flip_res = get_preloaded_res(images, distortion_res=distorted_images['flip'])\n",
    "save_dists_excel(flip_res, 'flip')"
   ]
  },
  {
   "cell_type": "code",
   "execution_count": null,
   "metadata": {},
   "outputs": [],
   "source": [
    "jpeg_res = get_preloaded_res(images, distortion_res=distorted_images['jpeg'])\n",
    "save_dists_excel(jpeg_res, 'jpeg')"
   ]
  },
  {
   "cell_type": "code",
   "execution_count": 201,
   "metadata": {},
   "outputs": [
    {
     "name": "stderr",
     "output_type": "stream",
     "text": [
      "501it [00:00, 1114.89it/s]\n",
      "501it [00:00, 1229.89it/s]\n",
      "501it [00:00, 1437.09it/s]\n",
      "501it [00:00, 1149.77it/s]\n",
      "501it [00:00, 1260.98it/s]\n",
      "501it [00:00, 1474.59it/s]\n",
      "501it [00:00, 999.00it/s] \n",
      "501it [00:00, 1078.45it/s]\n",
      "501it [00:00, 1195.46it/s]\n",
      "501it [00:07, 69.58it/s]\n",
      "501it [00:06, 74.77it/s]\n",
      "501it [00:05, 88.98it/s] \n",
      "501it [00:05, 98.56it/s] \n",
      "501it [00:04, 106.67it/s]\n",
      "501it [00:04, 122.14it/s]\n",
      "501it [00:04, 108.91it/s]\n",
      "501it [00:04, 119.29it/s]\n",
      "501it [00:03, 140.34it/s]\n"
     ]
    }
   ],
   "source": [
    "rotate_res = get_preloaded_res(images, distortion_res=distorted_changed_images['rotate'])\n",
    "save_dists_excel(rotate_res, 'rotate')"
   ]
  },
  {
   "cell_type": "code",
   "execution_count": 204,
   "metadata": {},
   "outputs": [
    {
     "name": "stderr",
     "output_type": "stream",
     "text": [
      "501it [00:00, 1110.48it/s]\n",
      "501it [00:00, 853.18it/s] \n",
      "501it [00:00, 929.73it/s] \n",
      "501it [00:00, 975.24it/s] \n",
      "501it [00:00, 1414.89it/s]\n",
      "501it [00:00, 1774.14it/s]\n",
      "501it [00:00, 998.91it/s] \n",
      "501it [00:00, 1179.04it/s]\n",
      "501it [00:00, 1419.63it/s]\n",
      "501it [00:06, 71.94it/s]\n",
      "501it [00:05, 85.84it/s] \n",
      "501it [00:04, 100.48it/s]\n",
      "501it [00:05, 97.25it/s] \n",
      "501it [00:04, 119.47it/s]\n",
      "501it [00:03, 147.42it/s]\n",
      "501it [00:04, 108.66it/s]\n",
      "501it [00:03, 133.40it/s]\n",
      "501it [00:02, 169.75it/s]\n"
     ]
    }
   ],
   "source": [
    "crop_res = get_preloaded_res(images, distortion_res=distorted_changed_images['crop'])\n",
    "save_dists_excel(crop_res, 'crop')"
   ]
  },
  {
   "cell_type": "code",
   "execution_count": 149,
   "metadata": {},
   "outputs": [],
   "source": [
    "def get_res(distortion_funcs, limit: int | None = None, dataset_path: str = 'test'):\n",
    "    res: dict[str, S] = {}\n",
    "    for hash_func in all_hashes:\n",
    "        res[hash_func.__name__] = compute_distortions_dists(images,\n",
    "                                                            distortion_funcs=distortion_funcs,\n",
    "                                                            hash_func=hash_func,\n",
    "                                                            limit=limit)\n",
    "    return res"
   ]
  },
  {
   "cell_type": "code",
   "execution_count": null,
   "metadata": {},
   "outputs": [
    {
     "data": {
      "text/plain": [
       "<Axes: >"
      ]
     },
     "execution_count": 248,
     "metadata": {},
     "output_type": "execute_result"
    },
    {
     "data": {
      "image/png": "[encoded data removed]",
      "text/plain": [
       "<Figure size 640x480 with 1 Axes>"
      ]
     },
     "metadata": {},
     "output_type": "display_data"
    }
   ],
   "source": [
    "plt.ylim(0, 1)\n",
    "seaborn.boxplot(gauss_blur_res['phash'].stats())\n",
    "seaborn.boxplot(gauss_blur_res['whash'].stats())"
   ]
  },
  {
   "cell_type": "code",
   "execution_count": 155,
   "metadata": {},
   "outputs": [
    {
     "name": "stdout",
     "output_type": "stream",
     "text": [
      "average_hash 0.453 0.455 0.136\n",
      "dhash 0.484 0.486 0.087\n",
      "phash 0.5 0.484 0.071\n",
      "whash 0.469 0.459 0.135\n",
      "colorhash 0.143 0.147 0.056\n",
      "pdq_hash 0.5 0.498 0.039\n"
     ]
    }
   ],
   "source": [
    "for h in all_hashes:\n",
    "    dists = compute_random_dists(gauss_blur_res[h.__name__].orig_hashes, num=500)\n",
    "    mu, std = norm.fit(dists) \n",
    "    print(h.__name__, round(np.median(dists), 3), round(mu, 3), round(std, 3))"
   ]
  },
  {
   "cell_type": "code",
   "execution_count": 119,
   "metadata": {},
   "outputs": [],
   "source": [
    "def hist_with_normal(random_dists: np.ndarray, bins=30, hash_name: str | None = None):\n",
    "    h = np.sort(random_dists)\n",
    "\n",
    "    if hash_name:\n",
    "        plt.title(f'{hash_name} random dist')\n",
    "    plt.xlim(0, 1)\n",
    "    plt.hist(random_dists, bins=bins, density=True)\n",
    "    x = np.linspace(0, 1, 1000)\n",
    "    plt.plot(h, stats.norm.pdf(x, np.mean(x), np.std(x)))\n",
    "    plt.show()"
   ]
  },
  {
   "cell_type": "code",
   "execution_count": 148,
   "metadata": {},
   "outputs": [
    {
     "name": "stdout",
     "output_type": "stream",
     "text": [
      "Fit Values: 0.50 and 0.04\n"
     ]
    },
    {
     "data": {
      "image/png": "[encoded data removed]",
      "text/plain": [
       "<Figure size 640x480 with 1 Axes>"
      ]
     },
     "metadata": {},
     "output_type": "display_data"
    }
   ],
   "source": [
    "from scipy.stats import norm\n",
    " \n",
    "data = compute_random_dists(gauss_blur_res['pdq_hash'].orig_hashes, num=500)\n",
    "mu, std = norm.fit(data) \n",
    " \n",
    "plt.hist(data, bins=40, density=True,)\n",
    " \n",
    "xmin, xmax = plt.xlim()\n",
    "x = np.linspace(xmin, xmax, 100)\n",
    "p = norm.pdf(x, mu, std)\n",
    " \n",
    "plt.xlim(0, 1)\n",
    "plt.plot(x, p, linewidth=2)\n",
    "print(\"Fit Values: {:.2f} and {:.2f}\".format(mu, std))\n",
    "plt.title('pdq_hash')\n",
    " \n",
    "plt.show()"
   ]
  },
  {
   "cell_type": "code",
   "execution_count": 207,
   "metadata": {},
   "outputs": [
    {
     "data": {
      "text/plain": [
       "<Axes: title={'center': 'bright 0.1)'}>"
      ]
     },
     "execution_count": 207,
     "metadata": {},
     "output_type": "execute_result"
    },
    {
     "data": {
      "image/png": "[encoded data removed]",
      "text/plain": [
       "<Figure size 2000x500 with 1 Axes>"
      ]
     },
     "metadata": {},
     "output_type": "display_data"
    }
   ],
   "source": [
    "PARAM = 0.1\n",
    "res = crop_res\n",
    "plt.figure(figsize=(20, 5))\n",
    "plt.title(f'bright {PARAM})')\n",
    "q = {}\n",
    "for h in all_hashes:\n",
    "    q[h.__name__] = res[h.__name__].stats()[PARAM]\n",
    "    q[f'rnd {h.__name__}'] = compute_random_dists(res[h.__name__].orig_hashes)\n",
    "seaborn.boxplot(q)"
   ]
  },
  {
   "cell_type": "code",
   "execution_count": 265,
   "metadata": {},
   "outputs": [
    {
     "data": {
      "text/plain": [
       "{0: (0.1953125, 0.546875, 0.49700598802395207)}"
      ]
     },
     "execution_count": 265,
     "metadata": {},
     "output_type": "execute_result"
    }
   ],
   "source": [
    "mirror_res['pdq_hash'].stats()"
   ]
  },
  {
   "cell_type": "code",
   "execution_count": 266,
   "metadata": {},
   "outputs": [
    {
     "name": "stdout",
     "output_type": "stream",
     "text": [
      "T=0.02: precision=1.0, recall=0.5, f1=0.6666666666666681\n",
      "T=0.04: precision=1.0, recall=0.5, f1=0.6666666666666681\n",
      "T=0.06: precision=1.0, recall=0.5, f1=0.6666666666666681\n",
      "T=0.08: precision=1.0, recall=0.5, f1=0.6666666666666681\n",
      "T=0.1: precision=1.0, recall=0.5, f1=0.6666666666666681\n",
      "T=0.12: precision=1.0, recall=0.5, f1=0.6666666666666681\n",
      "T=0.14: precision=1.0, recall=0.5, f1=0.6666666666666681\n",
      "T=0.16: precision=1.0, recall=0.5, f1=0.6666666666666681\n",
      "T=0.18: precision=1.0, recall=0.5, f1=0.6666666666666681\n",
      "T=0.2: precision=1.0, recall=0.501, f1=0.6673333333333348\n"
     ]
    }
   ],
   "source": [
    "search_metrics.train_T(hash_name='pdq_hash',\n",
    "                       res=mirror_res,\n",
    "                       train_size=500,\n",
    "                       from_t=0.02,\n",
    "                       to_t=0.2)"
   ]
  },
  {
   "cell_type": "code",
   "execution_count": 291,
   "metadata": {},
   "outputs": [
    {
     "name": "stdout",
     "output_type": "stream",
     "text": [
      "T=0.2: precision=1.0, recall=0.42533333333333445, f1=0.5827999999999998\n",
      "T=0.222222: precision=0.9981666666666666, recall=0.46100000000000346, f1=0.6144666666666647\n",
      "T=0.244444: precision=0.9981666666666666, recall=0.4863333333333383, f1=0.6369666666666636\n",
      "T=0.266667: precision=0.9981666666666666, recall=0.5103333333333397, f1=0.6582666666666623\n",
      "T=0.288889: precision=0.9974999999999998, recall=0.5246666666666727, f1=0.6699714285714239\n",
      "T=0.311111: precision=0.9936, recall=0.5486666666666716, f1=0.6893357142857086\n",
      "T=0.333333: precision=0.9856499999999996, recall=0.5793333333333364, f1=0.7123999999999937\n",
      "T=0.355556: precision=0.9765999999999996, recall=0.6173333333333336, f1=0.7395753968253903\n",
      "T=0.377778: precision=0.8809535714285697, recall=0.661999999999998, f1=0.7336884559884517\n",
      "T=0.4: precision=0.5133051212676216, recall=0.7089999999999976, f1=0.5678308685122935\n"
     ]
    }
   ],
   "source": [
    "search_metrics.train_T_all_res(hash_name='pdq_hash',\n",
    "                               res_list=[crop_res, rotate_res],\n",
    "                               train_size=500,\n",
    "                               from_t=0.2,\n",
    "                               to_t=0.4)"
   ]
  },
  {
   "cell_type": "code",
   "execution_count": null,
   "metadata": {},
   "outputs": [],
   "source": []
  },
  {
   "cell_type": "code",
   "execution_count": null,
   "metadata": {},
   "outputs": [],
   "source": []
  },
  {
   "cell_type": "code",
   "execution_count": null,
   "metadata": {},
   "outputs": [],
   "source": []
  },
  {
   "cell_type": "markdown",
   "metadata": {},
   "source": [
    "## песочница"
   ]
  },
  {
   "cell_type": "code",
   "execution_count": null,
   "metadata": {},
   "outputs": [
    {
     "data": {
      "text/plain": [
       "<Axes: >"
      ]
     },
     "execution_count": 15,
     "metadata": {},
     "output_type": "execute_result"
    },
    {
     "data": {
      "image/png": "[encoded data removed]",
      "text/plain": [
       "<Figure size 640x480 with 1 Axes>"
      ]
     },
     "metadata": {},
     "output_type": "display_data"
    }
   ],
   "source": [
    "seaborn.boxplot({**jpeg_res['phash'].stats(), 'a': compute_random_dists(jpeg_res['phash'].orig_hashes)})"
   ]
  },
  {
   "cell_type": "code",
   "execution_count": null,
   "metadata": {},
   "outputs": [
    {
     "name": "stderr",
     "output_type": "stream",
     "text": [
      "2000it [00:11, 179.31it/s]\n",
      "2000it [02:05, 15.98it/s]\n",
      "2000it [00:10, 197.95it/s]\n",
      "2000it [02:05, 15.93it/s]\n",
      "2000it [00:10, 193.70it/s]\n",
      "2000it [02:06, 15.86it/s]\n",
      "2000it [00:38, 51.49it/s]\n",
      "2000it [02:33, 13.01it/s]\n"
     ]
    }
   ],
   "source": [
    "save_dists_excel((mf_res := get_res(ops.distortion_factory(ops.median_filter, [9]), limit=2000)), 'mf')"
   ]
  },
  {
   "cell_type": "code",
   "execution_count": null,
   "metadata": {},
   "outputs": [
    {
     "data": {
      "text/plain": [
       "{9: (0.0, 0.1875, 0.015984375)}"
      ]
     },
     "execution_count": 437,
     "metadata": {},
     "output_type": "execute_result"
    }
   ],
   "source": [
    "mf_res['phash'].stats()"
   ]
  },
  {
   "cell_type": "code",
   "execution_count": null,
   "metadata": {},
   "outputs": [
    {
     "data": {
      "text/plain": [
       "<Axes: >"
      ]
     },
     "execution_count": 438,
     "metadata": {},
     "output_type": "execute_result"
    },
    {
     "data": {
      "image/png": "[encoded data removed]",
      "text/plain": [
       "<Figure size 640x480 with 1 Axes>"
      ]
     },
     "metadata": {},
     "output_type": "display_data"
    }
   ],
   "source": [
    "seaborn.boxplot({**mf_res['phash'].stats(), 'a': compute_random_dists(mf_res['phash'].orig_hashes, 100)})\n"
   ]
  },
  {
   "cell_type": "code",
   "execution_count": null,
   "metadata": {},
   "outputs": [
    {
     "data": {
      "text/plain": [
       "<Axes: >"
      ]
     },
     "execution_count": 314,
     "metadata": {},
     "output_type": "execute_result"
    },
    {
     "data": {
      "image/png": "[encoded data removed]",
      "text/plain": [
       "<Figure size 640x480 with 1 Axes>"
      ]
     },
     "metadata": {},
     "output_type": "display_data"
    }
   ],
   "source": [
    "# plt.ylim(0, 1)\n",
    "seaborn.boxplot(scale_res['whash'].stats())\n",
    "# seaborn.boxplot(scale_res['whash'].stats())"
   ]
  },
  {
   "cell_type": "code",
   "execution_count": null,
   "metadata": {},
   "outputs": [
    {
     "data": {
      "text/plain": [
       "{0.1: (0.0, 0.15625, 0.013625), 0.2: (0.0, 0.28125, 0.0206875)}"
      ]
     },
     "execution_count": 406,
     "metadata": {},
     "output_type": "execute_result"
    }
   ],
   "source": [
    "sp_noise_res['phash'].stats()"
   ]
  },
  {
   "cell_type": "code",
   "execution_count": null,
   "metadata": {},
   "outputs": [
    {
     "data": {
      "text/plain": [
       "{0.02: (0.0, 0.171875, 0.062125),\n",
       " 0.05: (0.0, 0.328125, 0.15153125),\n",
       " 0.1: (0.015625, 0.546875, 0.2869375)}"
      ]
     },
     "execution_count": 307,
     "metadata": {},
     "output_type": "execute_result"
    }
   ],
   "source": [
    "crop_res['dhash'].stats()"
   ]
  },
  {
   "cell_type": "code",
   "execution_count": null,
   "metadata": {},
   "outputs": [
    {
     "data": {
      "text/plain": [
       "<Axes: >"
      ]
     },
     "execution_count": 308,
     "metadata": {},
     "output_type": "execute_result"
    },
    {
     "data": {
      "image/png": "[encoded data removed]",
      "text/plain": [
       "<Figure size 640x480 with 1 Axes>"
      ]
     },
     "metadata": {},
     "output_type": "display_data"
    }
   ],
   "source": [
    "plt.ylim(0, 1)\n",
    "seaborn.boxplot({**crop_res['dhash'].stats(), 'random': compute_random_dists(flip_res['dhash'].orig_hashes, 100)})"
   ]
  },
  {
   "cell_type": "code",
   "execution_count": null,
   "metadata": {},
   "outputs": [
    {
     "name": "stdout",
     "output_type": "stream",
     "text": [
      "5000\n"
     ]
    },
    {
     "data": {
      "text/plain": [
       "(0.9897866666666665, 0.99855, 0.9921593650793651)"
      ]
     },
     "execution_count": 20,
     "metadata": {},
     "output_type": "execute_result"
    }
   ],
   "source": [
    "search_metrics.test_T(hash_name='phash',\n",
    "                      res=jpeg_res,\n",
    "                      T=0.09,\n",
    "                      train_size=0)"
   ]
  },
  {
   "cell_type": "code",
   "execution_count": null,
   "metadata": {},
   "outputs": [
    {
     "data": {
      "text/plain": [
       "(4978, 3)"
      ]
     },
     "execution_count": 24,
     "metadata": {},
     "output_type": "execute_result"
    }
   ],
   "source": [
    "T=0.09\n",
    "h = 'phash'\n",
    "np.sum(np.array(jpeg_res[h].param2dist[10]) < T), sum(compute_random_dists(jpeg_res[h].orig_hashes) < T)"
   ]
  },
  {
   "cell_type": "code",
   "execution_count": null,
   "metadata": {},
   "outputs": [
    {
     "data": {
      "text/plain": [
       "{9: (0.0, 0.125, 0.0159375)}"
      ]
     },
     "execution_count": 433,
     "metadata": {},
     "output_type": "execute_result"
    }
   ],
   "source": [
    "mf_res['phash'].stats()"
   ]
  },
  {
   "cell_type": "code",
   "execution_count": null,
   "metadata": {},
   "outputs": [
    {
     "name": "stdout",
     "output_type": "stream",
     "text": [
      "T=0.01: precision=1.0, recall=0.805, f1=0.8700000000000003\n",
      "T=0.02: precision=1.0, recall=0.805, f1=0.8700000000000003\n",
      "T=0.03: precision=1.0, recall=0.805, f1=0.8700000000000003\n",
      "T=0.04: precision=1.0, recall=0.975, f1=0.9833333333333334\n",
      "T=0.05: precision=1.0, recall=0.975, f1=0.9833333333333334\n",
      "T=0.06: precision=1.0, recall=0.975, f1=0.9833333333333334\n",
      "T=0.07: precision=1.0, recall=1.0, f1=1.0\n",
      "T=0.08: precision=1.0, recall=1.0, f1=1.0\n",
      "T=0.09: precision=1.0, recall=1.0, f1=1.0\n",
      "T=0.1: precision=1.0, recall=1.0, f1=1.0\n"
     ]
    }
   ],
   "source": [
    "search_metrics.train_T(hash_name='phash', \n",
    "                       res=mf_res, \n",
    "                       train_size=100,\n",
    "                       from_t=0.01,\n",
    "                       to_t=0.1)"
   ]
  },
  {
   "cell_type": "code",
   "execution_count": null,
   "metadata": {},
   "outputs": [],
   "source": []
  }
 ],
 "metadata": {
  "kernelspec": {
   "display_name": ".venv",
   "language": "python",
   "name": "python3"
  },
  "language_info": {
   "codemirror_mode": {
    "name": "ipython",
    "version": 3
   },
   "file_extension": ".py",
   "mimetype": "text/x-python",
   "name": "python",
   "nbconvert_exporter": "python",
   "pygments_lexer": "ipython3",
   "version": "3.11.7"
  }
 },
 "nbformat": 4,
 "nbformat_minor": 2
}
